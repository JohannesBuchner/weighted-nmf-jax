{
 "cells": [
  {
   "cell_type": "code",
   "execution_count": 1,
   "metadata": {},
   "outputs": [],
   "source": [
    "import numpy as np\n",
    "from wnmf import wNMF"
   ]
  },
  {
   "cell_type": "code",
   "execution_count": 8,
   "metadata": {},
   "outputs": [],
   "source": [
    "## An example on simulated data\n",
    "n=100\n",
    "features = 100\n",
    "components=25\n",
    "X = 100*np.random.uniform(size=n*features).reshape(features,n)\n",
    "W = np.ones_like(X)"
   ]
  },
  {
   "cell_type": "code",
   "execution_count": 9,
   "metadata": {},
   "outputs": [
    {
     "name": "stdout",
     "output_type": "stream",
     "text": [
      "Beginning Run 1...\n",
      "|--- Initializing U,V\n",
      "|--- Running wNMF\n",
      "|--- Completed\n",
      "Beginning Run 2...\n",
      "|--- Initializing U,V\n",
      "|--- Running wNMF\n",
      "|--- Completed\n",
      "Beginning Run 3...\n",
      "|--- Initializing U,V\n",
      "|--- Running wNMF\n",
      "|--- Completed\n",
      "Beginning Run 4...\n",
      "|--- Initializing U,V\n",
      "|--- Running wNMF\n",
      "|--- Completed\n",
      "Beginning Run 5...\n",
      "|--- Initializing U,V\n",
      "|--- Running wNMF\n",
      "|--- Completed\n"
     ]
    }
   ],
   "source": [
    "model = wNMF(n_components=components,beta_loss='kullback-leibler',max_iter=1000,track_error=True,verbose=1)\n",
    "fit = model.fit(X=X,W=W,n_run=5)"
   ]
  },
  {
   "cell_type": "code",
   "execution_count": 10,
   "metadata": {},
   "outputs": [
    {
     "name": "stdout",
     "output_type": "stream",
     "text": [
      "Beginning Run 1...\n",
      "|--- Initializing U,V\n",
      "|--- Running wNMF\n",
      "|--- Completed\n"
     ]
    }
   ],
   "source": [
    "wm = np.load('Small_Weight_Matrix.npy')\n",
    "dm = np.load('Small_Data_Matrix.npy')\n",
    "model = wNMF(n_components=components,beta_loss='kullback-leibler',max_iter=1000)\n",
    "fit = model.fit(X=dm,W=wm,n_run=1)"
   ]
  },
  {
   "cell_type": "code",
   "execution_count": null,
   "metadata": {},
   "outputs": [],
   "source": [
    "print(fit.V)"
   ]
  },
  {
   "cell_type": "code",
   "execution_count": null,
   "metadata": {},
   "outputs": [],
   "source": [
    "print(fit.U)"
   ]
  },
  {
   "cell_type": "code",
   "execution_count": null,
   "metadata": {},
   "outputs": [],
   "source": [
    "print(fit.err)"
   ]
  },
  {
   "cell_type": "code",
   "execution_count": null,
   "metadata": {},
   "outputs": [],
   "source": [
    "## testing out altair for faceting / data vis\n",
    "import pandas as pd\n",
    "errdf = pd.DataFrame(np.log10(fit.err_tracker)).T.rename({i:'run_'+str(i) for i in range(0,components)},axis='columns')"
   ]
  },
  {
   "cell_type": "code",
   "execution_count": null,
   "metadata": {},
   "outputs": [],
   "source": [
    "import altair as alt\n",
    "alt.renderers.enable('notebook')\n",
    "alt.Chart(errdf.loc[100:,:].reset_index().melt(id_vars='index')).mark_point().encode(\n",
    "    alt.X('index:Q'),\n",
    "    alt.Y('value:Q',scale=alt.Scale(zero=False)),\n",
    "    color='variable'\n",
    "    \n",
    ")"
   ]
  },
  {
   "cell_type": "code",
   "execution_count": null,
   "metadata": {},
   "outputs": [],
   "source": [
    "## Dead simple euclidean NMF\n",
    "def nmf_euc(A,U,V,iters=1000):\n",
    "    err_stored = np.zeros(iters)\n",
    "    \n",
    "    erf_V = np.ones_like(V,dtype='float64')*np.finfo(np.float64).eps\n",
    "    erf_U = np.ones_like(U,dtype='float64')*np.finfo(np.float64).eps\n",
    "\n",
    "    for i in range(0,iters):\n",
    "        if i % 100 == 0:\n",
    "            print(i)\n",
    "\n",
    "#         err_calc = (A - U @ V)\n",
    "#         err_stored[i] = (np.trace(err_calc @ err_calc.T))/1000\n",
    "            \n",
    "        #V[V==0]=0.00000001\n",
    "        #U[U==0]=0.00000001\n",
    "        V = V*((U.T @ A)/((U.T @ U @ V) + erf_V))\n",
    "        U = U*((A @ V.T)/((U @ V @ V.T) + erf_U))\n",
    "    \n",
    "    return({'u': U,'v': V,'err': err_stored})"
   ]
  }
 ],
 "metadata": {
  "kernelspec": {
   "display_name": "Python 3",
   "language": "python",
   "name": "python3"
  },
  "language_info": {
   "codemirror_mode": {
    "name": "ipython",
    "version": 3
   },
   "file_extension": ".py",
   "mimetype": "text/x-python",
   "name": "python",
   "nbconvert_exporter": "python",
   "pygments_lexer": "ipython3",
   "version": "3.7.3"
  }
 },
 "nbformat": 4,
 "nbformat_minor": 2
}
